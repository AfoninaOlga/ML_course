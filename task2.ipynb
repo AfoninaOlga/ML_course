{
  "nbformat": 4,
  "nbformat_minor": 0,
  "metadata": {
    "colab": {
      "name": "Afonina_task2.ipynb",
      "provenance": []
    },
    "kernelspec": {
      "name": "python3",
      "display_name": "Python 3"
    },
    "language_info": {
      "name": "python"
    }
  },
  "cells": [
    {
      "cell_type": "markdown",
      "metadata": {
        "id": "v-1c-AHbvb2w"
      },
      "source": [
        "# Imports"
      ]
    },
    {
      "cell_type": "code",
      "metadata": {
        "id": "UueDWOqMwfUq"
      },
      "source": [
        "import numpy as np\n",
        "import pandas as pd\n",
        "from sklearn.preprocessing import OneHotEncoder\n",
        "from sklearn.model_selection import KFold\n",
        "from sklearn.utils import shuffle\n",
        "from scipy.sparse import hstack, diags\n",
        "from scipy import sparse\n",
        "from collections import defaultdict"
      ],
      "execution_count": 16,
      "outputs": []
    },
    {
      "cell_type": "markdown",
      "metadata": {
        "id": "C8Lb5d7mvKM0"
      },
      "source": [
        "# Processing data"
      ]
    },
    {
      "cell_type": "code",
      "metadata": {
        "id": "GTinDD8ksuMz"
      },
      "source": [
        "from google.colab import files\n",
        "uploaded = files.upload()"
      ],
      "execution_count": null,
      "outputs": []
    },
    {
      "cell_type": "code",
      "metadata": {
        "id": "GZ_5t0hwx8gk"
      },
      "source": [
        "row_lim = 1000000\n",
        "df = pd.read_csv('data.csv', header=0, names=['User_id', 'Rating', 'Date', 'Movie_id'], nrows=row_lim)\n",
        "df = df.drop('Date', axis=1)\n",
        "encoder = OneHotEncoder(categories='auto')\n",
        "users = encoder.fit_transform(np.asarray(df['User_id']).reshape(-1,1))\n",
        "movies = encoder.fit_transform(np.asarray(df['Movie_id']).reshape(-1,1))\n",
        "rating = defaultdict(list)\n",
        "for i, row in df.iterrows():\n",
        "    rating[row['User_id']] = (row['Movie_id'], row['Rating'])\n",
        "    if (100 * i) % row_lim == 0:\n",
        "        p = int(100 * i / row_lim)\n",
        "others = np.zeros(movies.shape)\n",
        "for i, row in df.iterrows():\n",
        "    grade = rating[row['User_id']]\n",
        "    others[i][grade[0] - 1] = grade[1]/10\n",
        "    if (100 * i) % row_lim == 0:\n",
        "        p = int(100 * i / row_lim)\n",
        "X = hstack([np.ones(row_lim).reshape(-1,1), users, movies, others]).tocsr()\n",
        "ratings = np.asarray(df['Rating']).reshape(-1,1)\n",
        "X, ratings = shuffle(X, ratings)\n",
        "y = ratings"
      ],
      "execution_count": 17,
      "outputs": []
    },
    {
      "cell_type": "markdown",
      "metadata": {
        "id": "RERt2Bou3qgC"
      },
      "source": [
        "# Prediction"
      ]
    },
    {
      "cell_type": "code",
      "metadata": {
        "id": "cbsqOSfha3BR",
        "colab": {
          "base_uri": "https://localhost:8080/",
          "height": 142
        },
        "outputId": "130e03fe-77cf-4683-f9c7-09e8efb5db0d"
      },
      "source": [
        "def predict(X, w, V):\n",
        "    a = np.sum(np.square(X.dot(V)), axis=1).reshape(-1,1)\n",
        "    b = np.sum(X.power(2).dot(np.square(V)), axis=1).reshape(-1,1)\n",
        "    return X.dot(w) + 0.5 * (a - b)\n",
        "\n",
        "def grad_desc(X, y, eta=0.01, n_steps=1000):\n",
        "    weight_dist = np.inf\n",
        "    w = np.zeros((X.shape[1], 1))\n",
        "    V = np.zeros((X.shape[1], 2))\n",
        "    for i in range(n_steps):\n",
        "        w += (2 * eta / len(y)) * X.T.dot(y - X.dot(w))\n",
        "        precomp = X.dot(V)\n",
        "        y_pred = predict(X, w, V)\n",
        "        for i in range(V.shape[1]):\n",
        "            d1 = diags(np.array(precomp)[:, i])\n",
        "            a = d1.dot(X)\n",
        "            d2 = diags(V[:, i])\n",
        "            b = X.power(2).dot(d2)\n",
        "            V[:, i] += (2 * eta / X.shape[1]) * (a - b).T.dot(y - y_pred).reshape((-1,))\n",
        "        y_pred = predict(X, w, V)\n",
        "    return w, V\n",
        "\n",
        "def RMSE(y, y_pred):\n",
        "    return np.sqrt(1 / len(y) * sum((y - y_pred)**2))\n",
        "\n",
        "kf = KFold(n_splits=5, shuffle=True)\n",
        "df_res = pd.DataFrame(columns=['name'])\n",
        "names = ['RMSE train', 'RMSE test']\n",
        "df_res['name'] = names\n",
        "i = 0\n",
        "for train_i, test_i in kf.split(X):\n",
        "    i += 1\n",
        "    X_train, X_test = X[train_i], X[test_i]\n",
        "    y_train, y_test = y[train_i], y[test_i] \n",
        "    results = grad_desc(X_train, y_train, eta=0.2, n_steps=20)\n",
        "    w, V = results\n",
        "    pred_train = predict(X_train, w, V)\n",
        "    pred_test = predict(X_test, w, V)\n",
        "    RMSE_train = RMSE(y_train, pred_train)\n",
        "    RMSE_test = RMSE(y_test, pred_test)\n",
        "    stats = np.concatenate((RMSE_train, RMSE_test))\n",
        "    df_res['T' + str(i)] = stats    \n",
        "\n",
        "df_res['mean'] = df_res.mean(axis=1)\n",
        "df_res['std'] = df_res.std(axis=1)\n",
        "df_res.set_index('name')"
      ],
      "execution_count": 18,
      "outputs": [
        {
          "output_type": "execute_result",
          "data": {
            "text/html": [
              "<div>\n",
              "<style scoped>\n",
              "    .dataframe tbody tr th:only-of-type {\n",
              "        vertical-align: middle;\n",
              "    }\n",
              "\n",
              "    .dataframe tbody tr th {\n",
              "        vertical-align: top;\n",
              "    }\n",
              "\n",
              "    .dataframe thead th {\n",
              "        text-align: right;\n",
              "    }\n",
              "</style>\n",
              "<table border=\"1\" class=\"dataframe\">\n",
              "  <thead>\n",
              "    <tr style=\"text-align: right;\">\n",
              "      <th></th>\n",
              "      <th>T1</th>\n",
              "      <th>T2</th>\n",
              "      <th>T3</th>\n",
              "      <th>T4</th>\n",
              "      <th>T5</th>\n",
              "      <th>mean</th>\n",
              "      <th>std</th>\n",
              "    </tr>\n",
              "    <tr>\n",
              "      <th>name</th>\n",
              "      <th></th>\n",
              "      <th></th>\n",
              "      <th></th>\n",
              "      <th></th>\n",
              "      <th></th>\n",
              "      <th></th>\n",
              "      <th></th>\n",
              "    </tr>\n",
              "  </thead>\n",
              "  <tbody>\n",
              "    <tr>\n",
              "      <th>RMSE train</th>\n",
              "      <td>1.043392</td>\n",
              "      <td>1.043928</td>\n",
              "      <td>1.043066</td>\n",
              "      <td>1.043187</td>\n",
              "      <td>1.043659</td>\n",
              "      <td>1.043447</td>\n",
              "      <td>0.000314</td>\n",
              "    </tr>\n",
              "    <tr>\n",
              "      <th>RMSE test</th>\n",
              "      <td>1.043598</td>\n",
              "      <td>1.041657</td>\n",
              "      <td>1.045019</td>\n",
              "      <td>1.044565</td>\n",
              "      <td>1.042501</td>\n",
              "      <td>1.043468</td>\n",
              "      <td>0.001252</td>\n",
              "    </tr>\n",
              "  </tbody>\n",
              "</table>\n",
              "</div>"
            ],
            "text/plain": [
              "                  T1        T2        T3  ...        T5      mean       std\n",
              "name                                      ...                              \n",
              "RMSE train  1.043392  1.043928  1.043066  ...  1.043659  1.043447  0.000314\n",
              "RMSE test   1.043598  1.041657  1.045019  ...  1.042501  1.043468  0.001252\n",
              "\n",
              "[2 rows x 7 columns]"
            ]
          },
          "metadata": {},
          "execution_count": 18
        }
      ]
    }
  ]
}