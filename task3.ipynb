{
  "nbformat": 4,
  "nbformat_minor": 0,
  "metadata": {
    "colab": {
      "name": "ML3.ipynb",
      "provenance": [],
      "authorship_tag": "ABX9TyOO1WojdglRUBcaIxHEZeXE"
    },
    "kernelspec": {
      "display_name": "Python 3",
      "name": "python3"
    },
    "language_info": {
      "name": "python"
    }
  },
  "cells": [
    {
      "cell_type": "code",
      "metadata": {
        "id": "qf9qGvPx6spg"
      },
      "source": [
        "import numpy as np\n",
        "import pandas as pd\n",
        "from collections import defaultdict\n",
        "from scipy import sparse\n",
        "import scipy.sparse as sps\n",
        "import collections"
      ],
      "execution_count": 2,
      "outputs": []
    },
    {
      "cell_type": "markdown",
      "metadata": {
        "id": "xkUYct2UQA20"
      },
      "source": [
        "# Get data"
      ]
    },
    {
      "cell_type": "code",
      "metadata": {
        "id": "FPhEandLHgzV"
      },
      "source": [
        "!wget https://snap.stanford.edu/data/loc-gowalla_edges.txt.gz\n",
        "!gzip -d loc-gowalla_edges.txt.gz > /devnull"
      ],
      "execution_count": null,
      "outputs": []
    },
    {
      "cell_type": "code",
      "metadata": {
        "id": "jimh-TfqIvDz"
      },
      "source": [
        "!wget https://snap.stanford.edu/data/loc-gowalla_totalCheckins.txt.gz\n",
        "!gzip -d loc-gowalla_totalCheckins.txt.gz > /devnull"
      ],
      "execution_count": null,
      "outputs": []
    },
    {
      "cell_type": "code",
      "metadata": {
        "id": "x5bUOprSvDdV"
      },
      "source": [
        "edges = pd.read_csv('loc-gowalla_edges.txt', sep='\\t', names=['from', 'to'])\n",
        "N = edges['from'].nunique()\n",
        "r_ind = edges['from'].values\n",
        "col_ind = edges['to'].values\n",
        "data = np.ones(r_ind.shape[0])\n",
        "S = sps.csr_matrix((data, (r_ind, col_ind)), shape=(N, N))\n",
        "S.setdiag(-1)"
      ],
      "execution_count": null,
      "outputs": []
    },
    {
      "cell_type": "markdown",
      "metadata": {
        "id": "UNx9iUD4QMrv"
      },
      "source": [
        "# Affinity propagation"
      ]
    },
    {
      "cell_type": "code",
      "metadata": {
        "id": "2jymARm8-f_z"
      },
      "source": [
        "A, R = S.copy(), S.copy()\n",
        "A.data, R.data = np.zeros(len(S.data), dtype=np.float64), np.zeros(len(S.data), dtype=np.float64)\n",
        "\n",
        "max_iterations = 30\n",
        "\n",
        "for n in range(max_iterations):\n",
        "    sum = S + A\n",
        "    tmp = sum.copy()\n",
        "    indices = np.asarray(np.argmax(sum, -1)).flatten()\n",
        "    tmp[np.arange(N), indices] = -np.inf\n",
        "    indices_tmp = np.asarray(np.argmax(tmp, -1)).flatten()\n",
        "    max1 = np.asarray(sum[np.arange(N), indices]).flatten()\n",
        "    max2 = np.asarray(sum[np.arange(N), indices_tmp]).flatten()\n",
        "    for r_ind, (i, j) in enumerate(zip(R.indptr, R.indptr[1:])):\n",
        "        R.data[i:j] = S.data[i:j] - max1[r_ind]\n",
        "        if indices[r_ind] in R.indices[i:j]:\n",
        "            R[r_ind, indices[r_ind]] = S[r_ind, indices[r_ind]] - max2[r_ind]\n",
        "    A = R.copy()\n",
        "    A.setdiag(0)\n",
        "    A[A < 0] = 0\n",
        "    sums = np.asarray(np.sum(A, axis=0)).flatten()\n",
        "    sums_d = R.diagonal() + sums\n",
        "    A.data = np.minimum(0, sums_d[A.indices] - A.data)\n",
        "    A.setdiag(sums)\n",
        "\n",
        "result = A + R\n",
        "labels = [np.argmax(result[i]) for i in range(N)]"
      ],
      "execution_count": null,
      "outputs": []
    },
    {
      "cell_type": "markdown",
      "metadata": {
        "id": "ciFi3-FHQZzL"
      },
      "source": [
        "# Check accuracy"
      ]
    },
    {
      "cell_type": "code",
      "metadata": {
        "id": "BRTV3BaEEeMo"
      },
      "source": [
        "checkins_df = pd.read_csv('loc-gowalla_totalCheckins.txt', delimiter = '\\t', names = ['user', 'time', 'latitude', 'longitude', 'location'])\n",
        "users = checkins['user'].unique()\n",
        "np.random.shuffle(users)\n",
        "test_users = users[:len(users) // 10]\n",
        "\n",
        "clusters = collections.defaultdict(list)\n",
        "for user, i in enumerate(labels):\n",
        "  if user not in test_users:\n",
        "    clusters[i].append(user)\n",
        "\n",
        "loc_counter = collections.defaultdict(collections.Counter)\n",
        "for i, vals in clusters.items():\n",
        "    data = checkins[checkins['user'].isin(vals)]['location_id'].values\n",
        "    loc_counter[i].update(data)"
      ],
      "execution_count": 31,
      "outputs": []
    },
    {
      "cell_type": "code",
      "metadata": {
        "colab": {
          "base_uri": "https://localhost:8080/"
        },
        "id": "sZ0fhK4FgQ4P",
        "outputId": "4141a4af-38ec-4eec-9642-37395eb31810"
      },
      "source": [
        "accuracies = []\n",
        "for user in test_users:\n",
        "    i = labels[user]\n",
        "    accuracy = len(set([location_id for location_id, _ in loc_counter[i].most_common(10)])\n",
        "                    & set(checkins[checkins['user'] == user]['location_id'].values)) / 10\n",
        "    accuracies.append(accuracy)\n",
        "print(f'accuracy: {np.mean(accuracies)}')"
      ],
      "execution_count": 32,
      "outputs": [
        {
          "output_type": "stream",
          "name": "stdout",
          "text": [
            "accuracy: 0.03497992342889159\n"
          ]
        }
      ]
    }
  ]
}