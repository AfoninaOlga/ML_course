{
  "nbformat": 4,
  "nbformat_minor": 0,
  "metadata": {
    "colab": {
      "name": "Afonina_Task1.ipynb",
      "provenance": [],
      "authorship_tag": "ABX9TyNzIb7rXH5h38AUcPR8ssL6"
    },
    "kernelspec": {
      "name": "python3",
      "display_name": "Python 3"
    },
    "language_info": {
      "name": "python"
    }
  },
  "cells": [
    {
      "cell_type": "markdown",
      "metadata": {
        "id": "i_6D87VQfN9D"
      },
      "source": [
        "#Dataset downloading"
      ]
    },
    {
      "cell_type": "code",
      "metadata": {
        "id": "8jMWerVlR9Pm",
        "colab": {
          "base_uri": "https://localhost:8080/"
        },
        "outputId": "4b7f4b20-0117-492e-9658-ed262b629cda"
      },
      "source": [
        "!wget https://archive.ics.uci.edu/ml/machine-learning-databases/00363/Dataset.zip > /devnull\n",
        "!unzip Dataset.zip > /devnull"
      ],
      "execution_count": 2,
      "outputs": [
        {
          "output_type": "stream",
          "name": "stdout",
          "text": [
            "--2021-10-12 11:55:53--  https://archive.ics.uci.edu/ml/machine-learning-databases/00363/Dataset.zip\n",
            "Resolving archive.ics.uci.edu (archive.ics.uci.edu)... 128.195.10.252\n",
            "Connecting to archive.ics.uci.edu (archive.ics.uci.edu)|128.195.10.252|:443... connected.\n",
            "HTTP request sent, awaiting response... 200 OK\n",
            "Length: 19055526 (18M) [application/x-httpd-php]\n",
            "Saving to: ‘Dataset.zip’\n",
            "\n",
            "Dataset.zip         100%[===================>]  18.17M  46.4MB/s    in 0.4s    \n",
            "\n",
            "2021-10-12 11:55:53 (46.4 MB/s) - ‘Dataset.zip’ saved [19055526/19055526]\n",
            "\n"
          ]
        }
      ]
    },
    {
      "cell_type": "markdown",
      "metadata": {
        "id": "5Rq3a667WnFU"
      },
      "source": [
        "#Imports"
      ]
    },
    {
      "cell_type": "code",
      "metadata": {
        "id": "N8rfZbDPSc1Z"
      },
      "source": [
        "import numpy as np\n",
        "import pandas as pd\n",
        "from sklearn.preprocessing import MinMaxScaler\n",
        "from sklearn.model_selection import KFold\n",
        "from sklearn.metrics import r2_score, mean_squared_error"
      ],
      "execution_count": 11,
      "outputs": []
    },
    {
      "cell_type": "markdown",
      "metadata": {
        "id": "GPMMD4pyWqGa"
      },
      "source": [
        "#Dataset reading"
      ]
    },
    {
      "cell_type": "code",
      "metadata": {
        "id": "ZEQvhBAeXdIA"
      },
      "source": [
        "features = pd.read_csv('Dataset/Training/Features_Variant_1.csv', header=None)\n",
        "x_train = features.drop(columns=53)\n",
        "y_train = features[53]"
      ],
      "execution_count": 9,
      "outputs": []
    },
    {
      "cell_type": "code",
      "metadata": {
        "colab": {
          "base_uri": "https://localhost:8080/"
        },
        "id": "bpYMsLkSWxbs",
        "outputId": "1d261805-1025-4144-e6fe-ff4a62d35348"
      },
      "source": [
        "features.head(), x_train.head(), y_train.head()"
      ],
      "execution_count": 7,
      "outputs": [
        {
          "output_type": "execute_result",
          "data": {
            "text/plain": [
              "(       0   1    2   3    4      5          6   ...  47  48  49  50  51  52  53\n",
              " 0  634995   0  463   1  0.0  806.0  11.291045  ...   0   0   0   0   0   1   0\n",
              " 1  634995   0  463   1  0.0  806.0  11.291045  ...   0   0   0   0   1   0   0\n",
              " 2  634995   0  463   1  0.0  806.0  11.291045  ...   0   0   0   0   0   1   0\n",
              " 3  634995   0  463   1  0.0  806.0  11.291045  ...   1   0   0   0   0   0   0\n",
              " 4  634995   0  463   1  0.0  806.0  11.291045  ...   0   0   1   0   0   0   0\n",
              " \n",
              " [5 rows x 54 columns],\n",
              "        0   1    2   3    4      5          6   ...  46  47  48  49  50  51  52\n",
              " 0  634995   0  463   1  0.0  806.0  11.291045  ...   0   0   0   0   0   0   1\n",
              " 1  634995   0  463   1  0.0  806.0  11.291045  ...   0   0   0   0   0   1   0\n",
              " 2  634995   0  463   1  0.0  806.0  11.291045  ...   0   0   0   0   0   0   1\n",
              " 3  634995   0  463   1  0.0  806.0  11.291045  ...   0   1   0   0   0   0   0\n",
              " 4  634995   0  463   1  0.0  806.0  11.291045  ...   0   0   0   1   0   0   0\n",
              " \n",
              " [5 rows x 53 columns],\n",
              " 0    0\n",
              " 1    0\n",
              " 2    0\n",
              " 3    0\n",
              " 4    0\n",
              " Name: 53, dtype: int64)"
            ]
          },
          "metadata": {},
          "execution_count": 7
        }
      ]
    },
    {
      "cell_type": "markdown",
      "metadata": {
        "id": "af99LMjHkSZ8"
      },
      "source": [
        "#Solution"
      ]
    },
    {
      "cell_type": "code",
      "metadata": {
        "id": "WWDYB6rlZr6C"
      },
      "source": [
        "min_max_scaler = MinMaxScaler()\n",
        "x_train_norm = pd.DataFrame(min_max_scaler.fit_transform(x_train))"
      ],
      "execution_count": 13,
      "outputs": []
    },
    {
      "cell_type": "code",
      "metadata": {
        "id": "1zhstQTfsw8l",
        "colab": {
          "base_uri": "https://localhost:8080/",
          "height": 297
        },
        "outputId": "b01f6811-be8c-4d91-c07c-683a3305921a"
      },
      "source": [
        "class Regression:\n",
        "    def __init__(self, rate=0.05, iters=50):\n",
        "        self.rate = rate\n",
        "        self.iters = iters\n",
        "\n",
        "    def fit(self, X, y):\n",
        "        s_num, feat_num = X.shape\n",
        "        \n",
        "        self.b = 0.0\n",
        "        self.W = np.zeros(feat_num)\n",
        "    \n",
        "        for _ in range(self.iters):\n",
        "            predicted = X @ self.W + self.b\n",
        "\n",
        "            b1 = 2 * np.sum(predicted - y) / s_num\n",
        "            self.b -= self.rate * b1\n",
        "\n",
        "            W1 = 2 * (X.T @ (predicted - y)) / s_num\n",
        "            self.W -= self.rate * W1\n",
        "        \n",
        "    def predict(self, X):\n",
        "        return X @ self.W + self.b\n",
        "\n",
        "\n",
        "folds = KFold(\n",
        "    n_splits=5,\n",
        "    shuffle=True,\n",
        "    random_state=777,\n",
        ")\n",
        "\n",
        "i = 1\n",
        "\n",
        "def get_results(y_pred_fold, y_fold):\n",
        "    res = dict()\n",
        "    res['e'] = (y_fold.to_numpy() - y_pred_fold.to_numpy()).mean()\n",
        "    res['std'] = (y_fold.to_numpy() - y_pred_fold.to_numpy()).std()\n",
        "    res['r2'] = r2_score(y_fold.to_numpy(), y_pred_fold.to_numpy())\n",
        "    res['rmse'] = mean_squared_error(y_fold.to_numpy(), y_pred_fold.to_numpy(), squared=False)\n",
        "    return res\n",
        "\n",
        "indexes = [\"E-train\", \"STD-train\", \"R2-train\", \"RMSE-train\", \"E-test\", \"STD-test\", \"R2-test\", \"RMSE-test\"]\n",
        "cols = ['T1', 'T2', 'T3', 'T4', 'T5']\n",
        "res = pd.DataFrame(index=indexes, columns=cols)\n",
        "\n",
        "for train_i, test_i in folds.split(x_train_norm):\n",
        "    X_train_fold = x_train_norm.iloc[train_i]\n",
        "    y_train_fold = y_train.iloc[train_i]\n",
        "    X_test_fold = x_train_norm.iloc[test_i]\n",
        "    y_test_fold = y_train.iloc[test_i]\n",
        "    \n",
        "    reg = Regression(rate=0.3, iters=400)\n",
        "    reg.fit(X_train_fold, y_train_fold)\n",
        "\n",
        "    y_pred_train_fold = reg.predict(X_train_fold)\n",
        "    y_pred_test_fold = reg.predict(X_test_fold)\n",
        "\n",
        "    train_res = get_results(y_pred_train_fold, y_train_fold)\n",
        "    res.at[\"E-train\", f\"T{i}\"] = train_res['e']\n",
        "    res.at[\"STD-train\", f\"T{i}\"] = train_res['std']\n",
        "    res.at[\"R2-train\", f\"T{i}\"] = train_res['r2']\n",
        "    res.at[\"RMSE-train\", f\"T{i}\"] = train_res['rmse']\n",
        "    test_res = get_results(y_pred_test_fold, y_test_fold)\n",
        "    res.at[\"E-test\", f\"T{i}\"] = test_res['e']\n",
        "    res.at[\"STD-test\", f\"T{i}\"] = test_res['std']\n",
        "    res.at[\"R2-test\", f\"T{i}\"] = test_res['r2']\n",
        "    res.at[\"RMSE-test\", f\"T{i}\"] = test_res['rmse']\n",
        "\n",
        "    i += 1\n",
        "\n",
        "res"
      ],
      "execution_count": 46,
      "outputs": [
        {
          "output_type": "execute_result",
          "data": {
            "text/html": [
              "<div>\n",
              "<style scoped>\n",
              "    .dataframe tbody tr th:only-of-type {\n",
              "        vertical-align: middle;\n",
              "    }\n",
              "\n",
              "    .dataframe tbody tr th {\n",
              "        vertical-align: top;\n",
              "    }\n",
              "\n",
              "    .dataframe thead th {\n",
              "        text-align: right;\n",
              "    }\n",
              "</style>\n",
              "<table border=\"1\" class=\"dataframe\">\n",
              "  <thead>\n",
              "    <tr style=\"text-align: right;\">\n",
              "      <th></th>\n",
              "      <th>T1</th>\n",
              "      <th>T2</th>\n",
              "      <th>T3</th>\n",
              "      <th>T4</th>\n",
              "      <th>T5</th>\n",
              "    </tr>\n",
              "  </thead>\n",
              "  <tbody>\n",
              "    <tr>\n",
              "      <th>E-train</th>\n",
              "      <td>-0.0576251</td>\n",
              "      <td>-0.0578978</td>\n",
              "      <td>-0.0606521</td>\n",
              "      <td>-0.0556527</td>\n",
              "      <td>-0.0579882</td>\n",
              "    </tr>\n",
              "    <tr>\n",
              "      <th>STD-train</th>\n",
              "      <td>28.2547</td>\n",
              "      <td>31.3916</td>\n",
              "      <td>31.7544</td>\n",
              "      <td>30.1048</td>\n",
              "      <td>31.6044</td>\n",
              "    </tr>\n",
              "    <tr>\n",
              "      <th>R2-train</th>\n",
              "      <td>0.279974</td>\n",
              "      <td>0.242955</td>\n",
              "      <td>0.253153</td>\n",
              "      <td>0.251945</td>\n",
              "      <td>0.247304</td>\n",
              "    </tr>\n",
              "    <tr>\n",
              "      <th>RMSE-train</th>\n",
              "      <td>28.2547</td>\n",
              "      <td>31.3916</td>\n",
              "      <td>31.7545</td>\n",
              "      <td>30.1049</td>\n",
              "      <td>31.6044</td>\n",
              "    </tr>\n",
              "    <tr>\n",
              "      <th>E-test</th>\n",
              "      <td>0.669603</td>\n",
              "      <td>-0.262504</td>\n",
              "      <td>-0.47932</td>\n",
              "      <td>0.0799893</td>\n",
              "      <td>-0.299171</td>\n",
              "    </tr>\n",
              "    <tr>\n",
              "      <th>STD-test</th>\n",
              "      <td>38.8938</td>\n",
              "      <td>27.6646</td>\n",
              "      <td>25.5733</td>\n",
              "      <td>32.9046</td>\n",
              "      <td>26.4586</td>\n",
              "    </tr>\n",
              "    <tr>\n",
              "      <th>R2-test</th>\n",
              "      <td>0.18816</td>\n",
              "      <td>0.299298</td>\n",
              "      <td>0.271931</td>\n",
              "      <td>0.254811</td>\n",
              "      <td>0.29352</td>\n",
              "    </tr>\n",
              "    <tr>\n",
              "      <th>RMSE-test</th>\n",
              "      <td>38.8996</td>\n",
              "      <td>27.6659</td>\n",
              "      <td>25.5778</td>\n",
              "      <td>32.9047</td>\n",
              "      <td>26.4603</td>\n",
              "    </tr>\n",
              "  </tbody>\n",
              "</table>\n",
              "</div>"
            ],
            "text/plain": [
              "                   T1         T2         T3         T4         T5\n",
              "E-train    -0.0576251 -0.0578978 -0.0606521 -0.0556527 -0.0579882\n",
              "STD-train     28.2547    31.3916    31.7544    30.1048    31.6044\n",
              "R2-train     0.279974   0.242955   0.253153   0.251945   0.247304\n",
              "RMSE-train    28.2547    31.3916    31.7545    30.1049    31.6044\n",
              "E-test       0.669603  -0.262504   -0.47932  0.0799893  -0.299171\n",
              "STD-test      38.8938    27.6646    25.5733    32.9046    26.4586\n",
              "R2-test       0.18816   0.299298   0.271931   0.254811    0.29352\n",
              "RMSE-test     38.8996    27.6659    25.5778    32.9047    26.4603"
            ]
          },
          "metadata": {},
          "execution_count": 46
        }
      ]
    }
  ]
}